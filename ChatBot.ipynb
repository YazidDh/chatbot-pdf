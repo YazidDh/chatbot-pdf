{
 "cells": [
  {
   "cell_type": "code",
   "execution_count": 86,
   "id": "d519b8ea",
   "metadata": {},
   "outputs": [],
   "source": [
    "from langchain.text_splitter import CharacterTextSplitter, RecursiveCharacterTextSplitter\n",
    "from langchain.vectorstores import DocArrayInMemorySearch\n",
    "from langchain.document_loaders import TextLoader\n",
    "from langchain.chains import RetrievalQA,  ConversationalRetrievalChain\n",
    "from langchain.memory import ConversationBufferMemory\n",
    "from langchain_ollama.llms import OllamaLLM\n",
    "from langchain_ollama.embeddings import OllamaEmbeddings\n",
    "from langchain.document_loaders import TextLoader\n",
    "from langchain.document_loaders import PyPDFLoader\n"
   ]
  },
  {
   "cell_type": "code",
   "execution_count": 88,
   "id": "630742fd",
   "metadata": {},
   "outputs": [],
   "source": [
    "def load_db(file, chain_type, k):\n",
    "    print(\"loading pdf ...\")\n",
    "    # load documents\n",
    "    loader = PyPDFLoader(file)\n",
    "    documents = loader.load()\n",
    "    # split documents\n",
    "    text_splitter = RecursiveCharacterTextSplitter(chunk_size=1000, chunk_overlap=150)\n",
    "    docs = text_splitter.split_documents(documents)\n",
    "    # define embedding\n",
    "    embeddings = OllamaEmbeddings(model=\"llama3.2:1b\")\n",
    "    # create vector database from data\n",
    "    db = DocArrayInMemorySearch.from_documents(docs, embeddings)\n",
    "    # define retriever\n",
    "    retriever = db.as_retriever(search_type=\"similarity\", search_kwargs={\"k\": k})\n",
    "    \"\"\"retriever = db.as_retriever(\n",
    "    search_type=\"similarity\", \n",
    "    search_kwargs={\"k\": k, \"neighbors\": , \"iterations\": 2}\n",
    ")\"\"\"\n",
    "    # create a chatbot chain. Memory is managed externally.\n",
    "    qa = ConversationalRetrievalChain.from_llm(\n",
    "        llm =  OllamaLLM(model=\"llama3.2:1b\"),\n",
    "        chain_type=chain_type, \n",
    "        retriever=retriever, \n",
    "        return_source_documents=True,\n",
    "        return_generated_question=True,\n",
    "    )\n",
    "    \n",
    "    return qa "
   ]
  },
  {
   "cell_type": "code",
   "execution_count": 90,
   "id": "7ea4bb84",
   "metadata": {},
   "outputs": [
    {
     "name": "stdout",
     "output_type": "stream",
     "text": [
      "loading pdf ...\n",
      "User\n"
     ]
    },
    {
     "name": "stdin",
     "output_type": "stream",
     "text": [
      " Why is the example of predicting housing prices considered a supervised learning problem?\n"
     ]
    },
    {
     "name": "stdout",
     "output_type": "stream",
     "text": [
      "chatbot: The example of predicting housing prices can be considered a supervised learning problem because it involves training an algorithm on labeled data, where the goal is to predict a continuous output (housing price) based on one or more input features (e.g., age, size, location). In this case:\n",
      "\n",
      "* The feature \"age\" and \"size\" are continuous inputs that can be used as predictors of housing prices.\n",
      "* The target variable \"price\" is the actual housing price, which is a categorical output class (malignant or benign).\n",
      "* By using labeled data with examples like \"crosses\" indicating malignant tumors and \"O\"s indicating benign tumors, we can train an algorithm to learn the relationships between these features and the target variable.\n",
      "\n",
      "This type of problem is often referred to as regression analysis in machine learning. The goal is to develop a model that can predict the housing price based on various input features, while minimizing errors and maximizing predictions for new, unseen data.\n",
      "User\n"
     ]
    },
    {
     "name": "stdin",
     "output_type": "stream",
     "text": [
      " In the example of predicting tumor malignancy, what kind of variable is being predicted (malignant or benign)?\n"
     ]
    },
    {
     "name": "stdout",
     "output_type": "stream",
     "text": [
      "chatbot: Based on the provided context and information, I would refine the original answer as follows:\n",
      "\n",
      "The type of variable being predicted in the context of tumor malignancy classification is a continuous variable.\n",
      "\n",
      "This is because the algorithm is predicting whether a patient's tumor is malignant (represented by \"O\") or benign (represented by \"B\"), which are distinct categories. The variables that are input into the model include:\n",
      "\n",
      "* Patient age\n",
      "* Tumor size\n",
      "* Type of tumor cross (\"X\" for malignancy and \"B\" for benign)\n",
      "\n",
      "The output will be a continuous value representing the probability of the patient's tumor being malignant or benign, rather than a categorical variable like \"O\" or \"B\".\n",
      "User\n"
     ]
    },
    {
     "name": "stdin",
     "output_type": "stream",
     "text": [
      " q\n"
     ]
    }
   ],
   "source": [
    "qa = load_db(\"MachineLearning-Lecture01.pdf\", \"refine\", 4)\n",
    "chat_history = []\n",
    "while True:\n",
    "    print(\"User\")\n",
    "    question = input()\n",
    "    if question == \"q\":\n",
    "        break\n",
    "        \n",
    "    bot_response = qa({\"question\": question, \"chat_history\":chat_history})\n",
    "    chat_history.append((question, bot_response[\"answer\"]))\n",
    "    print(\"chatbot: \" +  bot_response[\"answer\"])"
   ]
  },
  {
   "cell_type": "code",
   "execution_count": null,
   "id": "a6ab73b0",
   "metadata": {},
   "outputs": [],
   "source": []
  },
  {
   "cell_type": "code",
   "execution_count": null,
   "id": "1c7fd1b3",
   "metadata": {},
   "outputs": [],
   "source": []
  },
  {
   "cell_type": "code",
   "execution_count": null,
   "id": "1a6e41f4",
   "metadata": {},
   "outputs": [],
   "source": []
  }
 ],
 "metadata": {
  "kernelspec": {
   "display_name": "Python (tf-env)",
   "language": "python",
   "name": "tf-env"
  },
  "language_info": {
   "codemirror_mode": {
    "name": "ipython",
    "version": 3
   },
   "file_extension": ".py",
   "mimetype": "text/x-python",
   "name": "python",
   "nbconvert_exporter": "python",
   "pygments_lexer": "ipython3",
   "version": "3.10.16"
  }
 },
 "nbformat": 4,
 "nbformat_minor": 5
}
